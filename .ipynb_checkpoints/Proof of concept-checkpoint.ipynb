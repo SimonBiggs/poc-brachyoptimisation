{
 "cells": [
  {
   "cell_type": "markdown",
   "metadata": {},
   "source": [
    "The aim of this notebook is to by optimising the position and dwell times of point sources along constrained lines produce a minimum exposure to one cube while producing a maximum exposure to a second cube."
   ]
  },
  {
   "cell_type": "code",
   "execution_count": 1,
   "metadata": {
    "collapsed": false
   },
   "outputs": [],
   "source": [
    "import numpy as np\n",
    "\n",
    "import matplotlib.pyplot as plt\n",
    "from mpl_toolkits.mplot3d import Axes3D\n",
    "from matplotlib import cm\n",
    "%matplotlib inline\n",
    "\n",
    "from utilities import BasinhoppingWrapper"
   ]
  },
  {
   "cell_type": "markdown",
   "metadata": {},
   "source": [
    "Create the voxels"
   ]
  },
  {
   "cell_type": "code",
   "execution_count": 2,
   "metadata": {
    "collapsed": true
   },
   "outputs": [],
   "source": [
    "x_ = np.linspace(-1, 1, 21)\n",
    "y_ = np.linspace(-1, 1, 21)\n",
    "z_ = np.linspace(-1, 1, 21)\n",
    "\n",
    "x, y, z = np.meshgrid(x_, y_, z_)\n",
    "x = np.ravel(x)\n",
    "y = np.ravel(y)\n",
    "z = np.ravel(z)"
   ]
  },
  {
   "cell_type": "markdown",
   "metadata": {},
   "source": [
    "Define the target and avoid cubes"
   ]
  },
  {
   "cell_type": "code",
   "execution_count": null,
   "metadata": {
    "collapsed": false
   },
   "outputs": [],
   "source": [
    "target_cube = (\n",
    "    (x < 0.5) & (x > -0.5) & \n",
    "    (y < 0.5) & (y > -0.5) & \n",
    "    (z < 0.5) & (z > -0.5))\n",
    "\n",
    "avoid_cube = (\n",
    "    (x < 1) & (x > 0.5) & \n",
    "    (y < 0.25) & (y > -0.25) & \n",
    "    (z < 0.25) & (z > -0.25))\n",
    "\n",
    "other = (~target_cube) & (~avoid_cube)"
   ]
  },
  {
   "cell_type": "markdown",
   "metadata": {},
   "source": [
    "Display the target and avoid cubes"
   ]
  },
  {
   "cell_type": "code",
   "execution_count": null,
   "metadata": {
    "collapsed": false
   },
   "outputs": [
    {
     "data": {
      "text/plain": [
       "(-1, 1)"
      ]
     },
     "execution_count": 4,
     "metadata": {},
     "output_type": "execute_result"
    }
   ],
   "source": [
    "fig = plt.figure()\n",
    "ax = fig.add_subplot(111, projection='3d')\n",
    "\n",
    "ax.scatter(x, y, z, alpha=0.1, s=1, color='grey')\n",
    "ax.scatter(\n",
    "    x[target_cube], y[target_cube], z[target_cube], \n",
    "    alpha=0.3, s=3, color='blue')\n",
    "ax.scatter(\n",
    "    x[avoid_cube], y[avoid_cube], z[avoid_cube], \n",
    "    alpha=0.3, s=3, color='red')\n",
    "\n",
    "ax.set_xlim([-1, 1])\n",
    "ax.set_ylim([-1, 1])\n",
    "ax.set_zlim([-1, 1])"
   ]
  },
  {
   "cell_type": "markdown",
   "metadata": {},
   "source": [
    "Create initial equidistant parrallel lines with a random skew"
   ]
  },
  {
   "cell_type": "code",
   "execution_count": null,
   "metadata": {
    "collapsed": false
   },
   "outputs": [],
   "source": [
    "line_start = np.meshgrid(\n",
    "    [-0.3, 0, 0.3],\n",
    "    [-0.3, 0, 0.3],\n",
    "    [1])\n",
    "\n",
    "line_finish = np.array([\n",
    "    line_start[0] + np.random.normal(scale=0.05, size=[3,3,1]),\n",
    "    line_start[1] + np.random.normal(scale=0.05, size=[3,3,1]),\n",
    "    -line_start[2]])"
   ]
  },
  {
   "cell_type": "code",
   "execution_count": null,
   "metadata": {
    "collapsed": false
   },
   "outputs": [],
   "source": [
    "line_start = np.array([np.ravel(mesh) for mesh in line_start])\n",
    "line_finish = np.array([np.ravel(mesh) for mesh in line_finish])"
   ]
  },
  {
   "cell_type": "markdown",
   "metadata": {},
   "source": [
    "Display the lines overlayed"
   ]
  },
  {
   "cell_type": "code",
   "execution_count": null,
   "metadata": {
    "collapsed": false
   },
   "outputs": [],
   "source": [
    "fig = plt.figure()\n",
    "ax = fig.add_subplot(111, projection='3d')\n",
    "\n",
    "ax.scatter(x, y, z, alpha=0.1, s=1, color='grey')\n",
    "ax.scatter(\n",
    "    x[target_cube], y[target_cube], z[target_cube], \n",
    "    alpha=0.3, s=3, color='blue')\n",
    "ax.scatter(\n",
    "    x[avoid_cube], y[avoid_cube], z[avoid_cube], \n",
    "    alpha=0.3, s=3, color='red')\n",
    "ax.scatter(*line_start)\n",
    "ax.scatter(*line_finish)\n",
    "\n",
    "for i in range(len(line_start[0])):\n",
    "    plt_coords = [\n",
    "        [line_start[j][i], line_finish[j][i]]\n",
    "        for j in range(len(line_start))]\n",
    "    ax.plot(*plt_coords, color='black', alpha=0.5)\n",
    "\n",
    "ax.set_xlim([-1, 1])\n",
    "ax.set_ylim([-1, 1])\n",
    "ax.set_zlim([-1, 1])"
   ]
  },
  {
   "cell_type": "markdown",
   "metadata": {},
   "source": [
    "Create a function to return x, y, z coords when a distance along a line is requested"
   ]
  },
  {
   "cell_type": "code",
   "execution_count": null,
   "metadata": {
    "collapsed": false
   },
   "outputs": [],
   "source": [
    "diff = (line_finish - line_start)\n",
    "line_length = np.sqrt(diff[0]**2 + diff[1]**2 + diff[2]**2)\n",
    "\n",
    "def find_distance_coords(line_num=None, distance=None):\n",
    "    relative_dist = distance / line_length[line_num]\n",
    "    \n",
    "    if (relative_dist > 1) | (relative_dist < 0):\n",
    "        return np.array([np.nan]*3)\n",
    "    \n",
    "    x = (\n",
    "        line_start[0][line_num] * (1 - relative_dist) + \n",
    "        line_finish[0][line_num] * relative_dist)\n",
    "    \n",
    "    y = (\n",
    "        line_start[1][line_num] * (1 - relative_dist) + \n",
    "        line_finish[1][line_num] * relative_dist)\n",
    "        \n",
    "    z = (\n",
    "        line_start[2][line_num] * (1 - relative_dist) + \n",
    "        line_finish[2][line_num] * relative_dist)\n",
    "    \n",
    "    coords = np.array([x, y, z])\n",
    "    \n",
    "    return coords"
   ]
  },
  {
   "cell_type": "markdown",
   "metadata": {},
   "source": [
    "Pick dwell positons 0.1 units apart starting at a random position along the line"
   ]
  },
  {
   "cell_type": "code",
   "execution_count": null,
   "metadata": {
    "collapsed": false
   },
   "outputs": [],
   "source": [
    "inital_dwell_position = np.random.uniform(low=0, high=0.1, size=9)\n",
    "inital_dwell_position"
   ]
  },
  {
   "cell_type": "code",
   "execution_count": null,
   "metadata": {
    "collapsed": true
   },
   "outputs": [],
   "source": [
    "dwell_spacing = 0.5\n",
    "number_of_dwells = np.floor(2 / dwell_spacing).astype(int)"
   ]
  },
  {
   "cell_type": "code",
   "execution_count": null,
   "metadata": {
    "collapsed": false
   },
   "outputs": [],
   "source": [
    "def find_dwell_coords(line_num=None, dwell_num=None):\n",
    "    distance = inital_dwell_position[line_num] + dwell_num * dwell_spacing\n",
    "    \n",
    "    coords = find_distance_coords(\n",
    "        line_num=line_num, distance=distance)\n",
    "    \n",
    "    return coords"
   ]
  },
  {
   "cell_type": "code",
   "execution_count": null,
   "metadata": {
    "collapsed": false
   },
   "outputs": [],
   "source": [
    "dwell_positions = np.array([\n",
    "    [\n",
    "        find_dwell_coords(\n",
    "            line_num=line_num, dwell_num=dwell_num)\n",
    "        for dwell_num in range(number_of_dwells)]\n",
    " for line_num in range(9)])"
   ]
  },
  {
   "cell_type": "markdown",
   "metadata": {},
   "source": [
    "Plot the dwell positions"
   ]
  },
  {
   "cell_type": "code",
   "execution_count": null,
   "metadata": {
    "collapsed": false
   },
   "outputs": [],
   "source": [
    "fig = plt.figure()\n",
    "ax = fig.add_subplot(111, projection='3d')\n",
    "\n",
    "ax.scatter(x, y, z, alpha=0.1, s=1, color='grey')\n",
    "ax.scatter(\n",
    "    x[target_cube], y[target_cube], z[target_cube], \n",
    "    alpha=0.3, s=3, color='blue')\n",
    "ax.scatter(\n",
    "    x[avoid_cube], y[avoid_cube], z[avoid_cube], \n",
    "    alpha=0.3, s=3, color='red')\n",
    "\n",
    "for line_num in range(9):\n",
    "    colour = np.random.uniform(size=3)\n",
    "    ax.scatter(*np.transpose(dwell_positions[line_num]), \n",
    "               c=colour, alpha=0.7)\n",
    "\n",
    "\n",
    "ax.set_xlim([-1, 1])\n",
    "ax.set_ylim([-1, 1])\n",
    "ax.set_zlim([-1, 1])"
   ]
  },
  {
   "cell_type": "markdown",
   "metadata": {},
   "source": [
    "Create an array containing the distance to each dwell position for each voxel and translate this to exposure at that voxel per unit dwell time at each dwell position"
   ]
  },
  {
   "cell_type": "code",
   "execution_count": null,
   "metadata": {
    "collapsed": false
   },
   "outputs": [],
   "source": [
    "distance_to_dwell_pos = np.array([\n",
    "    np.sqrt(\n",
    "        (x[i] - dwell_positions[:,:,0])**2 + \n",
    "        (y[i] - dwell_positions[:,:,1])**2 + \n",
    "        (z[i] - dwell_positions[:,:,2])**2\n",
    "    )\n",
    "    for i in range(len(x))\n",
    "])\n",
    "\n",
    "exposure_per_unit_time = 1 / distance_to_dwell_pos**2"
   ]
  },
  {
   "cell_type": "markdown",
   "metadata": {},
   "source": [
    "Run a test of arbitrary dwell times"
   ]
  },
  {
   "cell_type": "code",
   "execution_count": null,
   "metadata": {
    "collapsed": false
   },
   "outputs": [],
   "source": [
    "dwell_times = np.zeros([1, 9, number_of_dwells])\n",
    "dwell_times[0,0,np.floor(number_of_dwells/2) + 1] = 10\n",
    "dwell_times[0,8,np.floor(number_of_dwells/2) - 1] = 10"
   ]
  },
  {
   "cell_type": "code",
   "execution_count": null,
   "metadata": {
    "collapsed": true
   },
   "outputs": [],
   "source": [
    "def calculate_exposure(dwell_times):\n",
    "    exposure = np.sum(np.sum(dwell_times * exposure_per_unit_time, axis=1), axis=1)\n",
    "    return exposure"
   ]
  },
  {
   "cell_type": "code",
   "execution_count": null,
   "metadata": {
    "collapsed": false
   },
   "outputs": [],
   "source": [
    "exposure = calculate_exposure(dwell_times)"
   ]
  },
  {
   "cell_type": "code",
   "execution_count": null,
   "metadata": {
    "collapsed": false,
    "scrolled": true
   },
   "outputs": [],
   "source": [
    "fig = plt.figure()\n",
    "ax = fig.add_subplot(111, projection='3d')\n",
    "\n",
    "reference = exposure > 80\n",
    "colour = exposure[reference]\n",
    "colour[colour > 200] = 200\n",
    "\n",
    "ax.scatter(\n",
    "    x[reference], y[reference], z[reference], \n",
    "    alpha=0.4, s=10, c=colour, cmap=cm.jet)\n",
    "\n",
    "\n",
    "ax.set_xlim([-1, 1])\n",
    "ax.set_ylim([-1, 1])\n",
    "ax.set_zlim([-1, 1])"
   ]
  },
  {
   "cell_type": "code",
   "execution_count": null,
   "metadata": {
    "collapsed": true
   },
   "outputs": [],
   "source": [
    "def display_results(dwell_times):\n",
    "    dwell_times = np.reshape(dwell_times, (1, 9, number_of_dwells))\n",
    "    exposure = calculate_exposure(dwell_times)\n",
    "    \n",
    "    fig = plt.figure()\n",
    "    ax = fig.add_subplot(111, projection='3d')\n",
    "\n",
    "    reference = exposure > 25\n",
    "    colour = exposure[reference]\n",
    "    colour[colour > 100] = 100\n",
    "    \n",
    "    small = exposure[reference] < 50\n",
    "    large = ~small\n",
    "\n",
    "    ax.scatter(\n",
    "        x[reference][small], y[reference][small], z[reference][small], \n",
    "        alpha=0.2, s=3, c=colour[small], cmap=cm.jet)\n",
    "    \n",
    "    ax.scatter(\n",
    "        x[reference][large], y[reference][large], z[reference][large], \n",
    "        alpha=0.4, s=20, c=colour[large], cmap=cm.jet)\n",
    "\n",
    "\n",
    "    ax.set_xlim([-1, 1])\n",
    "    ax.set_ylim([-1, 1])\n",
    "    ax.set_zlim([-1, 1])\n",
    "    \n",
    "    print(cost_function(dwell_times))\n",
    "    \n",
    "    plt.show()"
   ]
  },
  {
   "cell_type": "markdown",
   "metadata": {},
   "source": [
    "Create cost function"
   ]
  },
  {
   "cell_type": "code",
   "execution_count": null,
   "metadata": {
    "collapsed": true
   },
   "outputs": [],
   "source": [
    "min_target_goal = 50\n",
    "max_avoid_goal = 30\n",
    "max_other_goal = 80\n",
    "\n",
    "def cost_function(dwell_times):\n",
    "    dwell_times = np.reshape(dwell_times, (1, 9, number_of_dwells))\n",
    "    exposure = calculate_exposure(dwell_times)\n",
    "    \n",
    "    min_target = np.min(exposure[target_cube])\n",
    "    max_avoid = np.max(exposure[avoid_cube])\n",
    "    max_other = np.max(exposure[other])\n",
    "    \n",
    "    squares = (\n",
    "        (min_target - min_target_goal)**2 + \n",
    "        (max_avoid - max_avoid_goal)**2 + \n",
    "        (max_other - max_other_goal)**2\n",
    "    )\n",
    "    \n",
    "    return np.sqrt(squares)"
   ]
  },
  {
   "cell_type": "code",
   "execution_count": null,
   "metadata": {
    "collapsed": true
   },
   "outputs": [],
   "source": [
    "# min_target_goal = 50\n",
    "# max_avoid_goal = 30\n",
    "# max_other_goal = 60\n",
    "\n",
    "# def cost_function(dwell_times):\n",
    "#     dwell_times = np.reshape(dwell_times, (1, 9, number_of_dwells))\n",
    "#     exposure = calculate_exposure(dwell_times)\n",
    "    \n",
    "#     min_target = np.mean(exposure[target_cube]) - np.std(exposure[target_cube]) * 3\n",
    "#     max_avoid = np.mean(exposure[avoid_cube]) + np.std(exposure[target_cube]) * 3\n",
    "#     max_other = np.mean(exposure[other]) + np.std(exposure[target_cube]) * 3\n",
    "    \n",
    "#     squares = (\n",
    "#         (min_target - min_target_goal)**2 + \n",
    "#         (max_avoid - max_avoid_goal)**2 + \n",
    "#         (max_other - max_other_goal)**2\n",
    "#     )\n",
    "    \n",
    "#     return np.sqrt(squares)"
   ]
  },
  {
   "cell_type": "markdown",
   "metadata": {},
   "source": [
    "Create initial conditions"
   ]
  },
  {
   "cell_type": "code",
   "execution_count": null,
   "metadata": {
    "collapsed": false
   },
   "outputs": [],
   "source": [
    "initial_conditions = np.ones(9 * number_of_dwells)*10"
   ]
  },
  {
   "cell_type": "markdown",
   "metadata": {},
   "source": [
    "Step noise"
   ]
  },
  {
   "cell_type": "code",
   "execution_count": null,
   "metadata": {
    "collapsed": false
   },
   "outputs": [],
   "source": [
    "step_noise = np.ones(9 * number_of_dwells) * 10"
   ]
  },
  {
   "cell_type": "markdown",
   "metadata": {},
   "source": [
    "Bounds"
   ]
  },
  {
   "cell_type": "code",
   "execution_count": null,
   "metadata": {
    "collapsed": false
   },
   "outputs": [],
   "source": [
    "bounds = ((0, None),)*9*number_of_dwells"
   ]
  },
  {
   "cell_type": "markdown",
   "metadata": {},
   "source": [
    "Run the optimiser"
   ]
  },
  {
   "cell_type": "code",
   "execution_count": null,
   "metadata": {
    "collapsed": false,
    "scrolled": false
   },
   "outputs": [],
   "source": [
    "optimisation = BasinhoppingWrapper(\n",
    "    to_minimise=cost_function,\n",
    "    initial=initial_conditions,\n",
    "    step_noise=step_noise,\n",
    "    confidence=1,\n",
    "    n=5,\n",
    "    debug=display_results,\n",
    "    bounds=bounds\n",
    ")"
   ]
  },
  {
   "cell_type": "code",
   "execution_count": null,
   "metadata": {
    "collapsed": false
   },
   "outputs": [],
   "source": [
    "optimisation.result"
   ]
  },
  {
   "cell_type": "code",
   "execution_count": null,
   "metadata": {
    "collapsed": false
   },
   "outputs": [],
   "source": [
    "display_results(optimisation.result)"
   ]
  },
  {
   "cell_type": "code",
   "execution_count": null,
   "metadata": {
    "collapsed": true
   },
   "outputs": [],
   "source": []
  }
 ],
 "metadata": {
  "kernelspec": {
   "display_name": "Python 3",
   "language": "python",
   "name": "python3"
  },
  "language_info": {
   "codemirror_mode": {
    "name": "ipython",
    "version": 3
   },
   "file_extension": ".py",
   "mimetype": "text/x-python",
   "name": "python",
   "nbconvert_exporter": "python",
   "pygments_lexer": "ipython3",
   "version": "3.4.2"
  }
 },
 "nbformat": 4,
 "nbformat_minor": 0
}
